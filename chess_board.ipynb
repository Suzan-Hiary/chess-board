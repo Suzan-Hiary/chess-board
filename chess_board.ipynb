{
 "cells": [
  {
   "cell_type": "code",
   "execution_count": 26,
   "metadata": {},
   "outputs": [
    {
     "name": "stdout",
     "output_type": "stream",
     "text": [
      "True\n"
     ]
    },
    {
     "data": {
      "image/png": "[encoded data removed]",
      "text/plain": [
       "<Figure size 432x288 with 1 Axes>"
      ]
     },
     "metadata": {
      "needs_background": "light"
     },
     "output_type": "display_data"
    }
   ],
   "source": [
    "import numpy as np \n",
    "import matplotlib.pyplot as plt\n",
    "\n",
    "class ChessBoard:\n",
    "    def __init__(self):\n",
    "        self.grid = np.zeros((8,8,3),np.float64)\n",
    "        for row in range(8):\n",
    "            for col in range (8):\n",
    "                if (not col %2 and not row %2)or(col %2 and row %2):\n",
    "                    self.grid[row,col] = (.9,.9,.9)\n",
    "\n",
    "    def render(self):\n",
    "       plt.imshow(self.grid)\n",
    "\n",
    "    def add_red(self , row , col):\n",
    "        self.Redrow = row \n",
    "        self.Redcol = col\n",
    "        self.grid[row,col] = (1,.2,0)\n",
    "\n",
    "    def add_blue(self,row,col):\n",
    "        self.Bluerow = row \n",
    "        self.Bluecol = col\n",
    "        self.grid[row,col] = (0,1,1)\n",
    "\n",
    "    def is_under_attack(self):\n",
    "        if self.Redrow  == self.Bluerow :\n",
    "            return True \n",
    "\n",
    "        elif self.Redcol == self.Bluecol :\n",
    "            return True\n",
    "        \n",
    "        elif abs(self.Bluerow - self.Redrow) == abs(self.Bluecol - self.Redcol):\n",
    "            return True \n",
    "        else:\n",
    "            return False\n",
    "\n",
    "\n",
    "\n",
    "\n",
    "board = ChessBoard()\n",
    "board.add_red(2,4)\n",
    "board.add_blue(4,6)\n",
    "actual = True\n",
    "expected = board.is_under_attack()\n",
    "assert expected == actual\n",
    "print(actual)\n",
    "\n",
    "\n",
    "board.render() "
   ]
  },
  {
   "cell_type": "code",
   "execution_count": 21,
   "metadata": {},
   "outputs": [
    {
     "name": "stdout",
     "output_type": "stream",
     "text": [
      "True\n"
     ]
    },
    {
     "data": {
      "image/png": "[encoded data removed]",
      "text/plain": [
       "<Figure size 432x288 with 1 Axes>"
      ]
     },
     "metadata": {
      "needs_background": "light"
     },
     "output_type": "display_data"
    }
   ],
   "source": [
    "board = ChessBoard()\n",
    "board.add_red(4,4)\n",
    "board.add_blue(4,6)\n",
    "actual = True\n",
    "expected = board.is_under_attack()\n",
    "assert expected == actual\n",
    "print(actual)\n",
    "\n",
    "board.render() "
   ]
  },
  {
   "cell_type": "code",
   "execution_count": 29,
   "metadata": {},
   "outputs": [
    {
     "name": "stdout",
     "output_type": "stream",
     "text": [
      "True\n"
     ]
    },
    {
     "data": {
      "image/png": "[encoded data removed]",
      "text/plain": [
       "<Figure size 432x288 with 1 Axes>"
      ]
     },
     "metadata": {
      "needs_background": "light"
     },
     "output_type": "display_data"
    }
   ],
   "source": [
    "board = ChessBoard()\n",
    "board.add_red(6,4)\n",
    "board.add_blue(6,6)\n",
    "actual = True\n",
    "expected = board.is_under_attack()\n",
    "assert expected == actual\n",
    "print(actual)\n",
    "\n",
    "board.render() "
   ]
  },
  {
   "cell_type": "code",
   "execution_count": 28,
   "metadata": {},
   "outputs": [
    {
     "name": "stdout",
     "output_type": "stream",
     "text": [
      "False\n"
     ]
    },
    {
     "data": {
      "image/png": "[encoded data removed]",
      "text/plain": [
       "<Figure size 432x288 with 1 Axes>"
      ]
     },
     "metadata": {
      "needs_background": "light"
     },
     "output_type": "display_data"
    }
   ],
   "source": [
    "board = ChessBoard()\n",
    "board.add_red(2,7)\n",
    "board.add_blue(4,2)\n",
    "\n",
    "actual = False\n",
    "expected = board.is_under_attack()\n",
    "assert expected == actual\n",
    "print(actual)\n",
    "board.render() "
   ]
  },
  {
   "cell_type": "code",
   "execution_count": 30,
   "metadata": {},
   "outputs": [
    {
     "name": "stdout",
     "output_type": "stream",
     "text": [
      "True\n"
     ]
    },
    {
     "data": {
      "image/png": "[encoded data removed]",
      "text/plain": [
       "<Figure size 432x288 with 1 Axes>"
      ]
     },
     "metadata": {
      "needs_background": "light"
     },
     "output_type": "display_data"
    }
   ],
   "source": [
    "\n",
    "\n",
    "board = ChessBoard()\n",
    "board.add_red(5,4)\n",
    "board.add_blue(6,4)\n",
    "actual = True\n",
    "expected = board.is_under_attack()\n",
    "assert expected == actual\n",
    "print(actual)\n",
    "\n",
    "board.render() "
   ]
  }
 ],
 "metadata": {
  "interpreter": {
   "hash": "1d5f37243ab0d06bd64c517fa2f9d7800cd0754752bb82c4c96de4378acba8f0"
  },
  "kernelspec": {
   "display_name": "Python 3.9.5 64-bit ('.venv': poetry)",
   "name": "python3"
  },
  "language_info": {
   "codemirror_mode": {
    "name": "ipython",
    "version": 3
   },
   "file_extension": ".py",
   "mimetype": "text/x-python",
   "name": "python",
   "nbconvert_exporter": "python",
   "pygments_lexer": "ipython3",
   "version": "3.9.5"
  },
  "orig_nbformat": 4
 },
 "nbformat": 4,
 "nbformat_minor": 2
}
